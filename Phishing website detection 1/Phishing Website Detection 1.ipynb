{
 "cells": [
  {
   "cell_type": "markdown",
   "id": "f37bfe3d",
   "metadata": {},
   "source": [
    "# Import Libraries"
   ]
  },
  {
   "cell_type": "code",
   "execution_count": 3,
   "id": "f0e45b71",
   "metadata": {},
   "outputs": [],
   "source": [
    "import numpy as np\n",
    "import pandas as pd\n",
    "import matplotlib.pyplot as plt\n",
    "import seaborn as sns\n",
    "import os\n",
    "from sklearn.model_selection import train_test_split\n",
    "from sklearn.preprocessing import StandardScaler\n",
    "from sklearn.ensemble import RandomForestClassifier\n",
    "from sklearn.svm import SVC\n",
    "from sklearn.metrics import jaccard_score\n",
    "from sklearn.metrics import f1_score\n",
    "from sklearn.metrics import log_loss\n",
    "from sklearn.metrics import classification_report,confusion_matrix,accuracy_score\n",
    "import sklearn.metrics as metrics\n",
    "from scipy.stats import randint, uniform\n",
    "import pickle\n",
    "from xgboost import XGBClassifier\n"
   ]
  },
  {
   "cell_type": "markdown",
   "id": "286852b3",
   "metadata": {},
   "source": [
    "# Load Dataset"
   ]
  },
  {
   "cell_type": "code",
   "execution_count": 4,
   "id": "ed09136e",
   "metadata": {},
   "outputs": [
    {
     "data": {
      "text/plain": [
       "'C:\\\\Users\\\\pc\\\\Desktop\\\\AF py\\\\Kaggle\\\\Phishing Website Detection\\\\Phishing website detection 1'"
      ]
     },
     "execution_count": 4,
     "metadata": {},
     "output_type": "execute_result"
    }
   ],
   "source": [
    "pwd = os.getcwd()\n",
    "pwd"
   ]
  },
  {
   "cell_type": "code",
   "execution_count": 5,
   "id": "1b948a9e",
   "metadata": {},
   "outputs": [],
   "source": [
    "df = pd.read_csv(pwd+\"\\\\dataset_phishing.csv\")"
   ]
  },
  {
   "cell_type": "markdown",
   "id": "02942e75",
   "metadata": {},
   "source": [
    "# Data Cleaning and Preprocessing"
   ]
  },
  {
   "cell_type": "code",
   "execution_count": 6,
   "id": "c1ae518f",
   "metadata": {},
   "outputs": [
    {
     "data": {
      "text/html": [
       "<div>\n",
       "<style scoped>\n",
       "    .dataframe tbody tr th:only-of-type {\n",
       "        vertical-align: middle;\n",
       "    }\n",
       "\n",
       "    .dataframe tbody tr th {\n",
       "        vertical-align: top;\n",
       "    }\n",
       "\n",
       "    .dataframe thead th {\n",
       "        text-align: right;\n",
       "    }\n",
       "</style>\n",
       "<table border=\"1\" class=\"dataframe\">\n",
       "  <thead>\n",
       "    <tr style=\"text-align: right;\">\n",
       "      <th></th>\n",
       "      <th>url</th>\n",
       "      <th>length_url</th>\n",
       "      <th>length_hostname</th>\n",
       "      <th>ip</th>\n",
       "      <th>nb_dots</th>\n",
       "      <th>nb_hyphens</th>\n",
       "      <th>nb_at</th>\n",
       "      <th>nb_qm</th>\n",
       "      <th>nb_and</th>\n",
       "      <th>nb_or</th>\n",
       "      <th>...</th>\n",
       "      <th>domain_in_title</th>\n",
       "      <th>domain_with_copyright</th>\n",
       "      <th>whois_registered_domain</th>\n",
       "      <th>domain_registration_length</th>\n",
       "      <th>domain_age</th>\n",
       "      <th>web_traffic</th>\n",
       "      <th>dns_record</th>\n",
       "      <th>google_index</th>\n",
       "      <th>page_rank</th>\n",
       "      <th>status</th>\n",
       "    </tr>\n",
       "  </thead>\n",
       "  <tbody>\n",
       "    <tr>\n",
       "      <th>0</th>\n",
       "      <td>http://www.crestonwood.com/router.php</td>\n",
       "      <td>37</td>\n",
       "      <td>19</td>\n",
       "      <td>0</td>\n",
       "      <td>3</td>\n",
       "      <td>0</td>\n",
       "      <td>0</td>\n",
       "      <td>0</td>\n",
       "      <td>0</td>\n",
       "      <td>0</td>\n",
       "      <td>...</td>\n",
       "      <td>0</td>\n",
       "      <td>1</td>\n",
       "      <td>0</td>\n",
       "      <td>45</td>\n",
       "      <td>-1</td>\n",
       "      <td>0</td>\n",
       "      <td>1</td>\n",
       "      <td>1</td>\n",
       "      <td>4</td>\n",
       "      <td>legitimate</td>\n",
       "    </tr>\n",
       "    <tr>\n",
       "      <th>1</th>\n",
       "      <td>http://shadetreetechnology.com/V4/validation/a...</td>\n",
       "      <td>77</td>\n",
       "      <td>23</td>\n",
       "      <td>1</td>\n",
       "      <td>1</td>\n",
       "      <td>0</td>\n",
       "      <td>0</td>\n",
       "      <td>0</td>\n",
       "      <td>0</td>\n",
       "      <td>0</td>\n",
       "      <td>...</td>\n",
       "      <td>1</td>\n",
       "      <td>0</td>\n",
       "      <td>0</td>\n",
       "      <td>77</td>\n",
       "      <td>5767</td>\n",
       "      <td>0</td>\n",
       "      <td>0</td>\n",
       "      <td>1</td>\n",
       "      <td>2</td>\n",
       "      <td>phishing</td>\n",
       "    </tr>\n",
       "    <tr>\n",
       "      <th>2</th>\n",
       "      <td>https://support-appleld.com.secureupdate.duila...</td>\n",
       "      <td>126</td>\n",
       "      <td>50</td>\n",
       "      <td>1</td>\n",
       "      <td>4</td>\n",
       "      <td>1</td>\n",
       "      <td>0</td>\n",
       "      <td>1</td>\n",
       "      <td>2</td>\n",
       "      <td>0</td>\n",
       "      <td>...</td>\n",
       "      <td>1</td>\n",
       "      <td>0</td>\n",
       "      <td>0</td>\n",
       "      <td>14</td>\n",
       "      <td>4004</td>\n",
       "      <td>5828815</td>\n",
       "      <td>0</td>\n",
       "      <td>1</td>\n",
       "      <td>0</td>\n",
       "      <td>phishing</td>\n",
       "    </tr>\n",
       "    <tr>\n",
       "      <th>3</th>\n",
       "      <td>http://rgipt.ac.in</td>\n",
       "      <td>18</td>\n",
       "      <td>11</td>\n",
       "      <td>0</td>\n",
       "      <td>2</td>\n",
       "      <td>0</td>\n",
       "      <td>0</td>\n",
       "      <td>0</td>\n",
       "      <td>0</td>\n",
       "      <td>0</td>\n",
       "      <td>...</td>\n",
       "      <td>1</td>\n",
       "      <td>0</td>\n",
       "      <td>0</td>\n",
       "      <td>62</td>\n",
       "      <td>-1</td>\n",
       "      <td>107721</td>\n",
       "      <td>0</td>\n",
       "      <td>0</td>\n",
       "      <td>3</td>\n",
       "      <td>legitimate</td>\n",
       "    </tr>\n",
       "    <tr>\n",
       "      <th>4</th>\n",
       "      <td>http://www.iracing.com/tracks/gateway-motorspo...</td>\n",
       "      <td>55</td>\n",
       "      <td>15</td>\n",
       "      <td>0</td>\n",
       "      <td>2</td>\n",
       "      <td>2</td>\n",
       "      <td>0</td>\n",
       "      <td>0</td>\n",
       "      <td>0</td>\n",
       "      <td>0</td>\n",
       "      <td>...</td>\n",
       "      <td>0</td>\n",
       "      <td>1</td>\n",
       "      <td>0</td>\n",
       "      <td>224</td>\n",
       "      <td>8175</td>\n",
       "      <td>8725</td>\n",
       "      <td>0</td>\n",
       "      <td>0</td>\n",
       "      <td>6</td>\n",
       "      <td>legitimate</td>\n",
       "    </tr>\n",
       "  </tbody>\n",
       "</table>\n",
       "<p>5 rows × 89 columns</p>\n",
       "</div>"
      ],
      "text/plain": [
       "                                                 url  length_url  \\\n",
       "0              http://www.crestonwood.com/router.php          37   \n",
       "1  http://shadetreetechnology.com/V4/validation/a...          77   \n",
       "2  https://support-appleld.com.secureupdate.duila...         126   \n",
       "3                                 http://rgipt.ac.in          18   \n",
       "4  http://www.iracing.com/tracks/gateway-motorspo...          55   \n",
       "\n",
       "   length_hostname  ip  nb_dots  nb_hyphens  nb_at  nb_qm  nb_and  nb_or  ...  \\\n",
       "0               19   0        3           0      0      0       0      0  ...   \n",
       "1               23   1        1           0      0      0       0      0  ...   \n",
       "2               50   1        4           1      0      1       2      0  ...   \n",
       "3               11   0        2           0      0      0       0      0  ...   \n",
       "4               15   0        2           2      0      0       0      0  ...   \n",
       "\n",
       "   domain_in_title  domain_with_copyright  whois_registered_domain  \\\n",
       "0                0                      1                        0   \n",
       "1                1                      0                        0   \n",
       "2                1                      0                        0   \n",
       "3                1                      0                        0   \n",
       "4                0                      1                        0   \n",
       "\n",
       "   domain_registration_length  domain_age  web_traffic  dns_record  \\\n",
       "0                          45          -1            0           1   \n",
       "1                          77        5767            0           0   \n",
       "2                          14        4004      5828815           0   \n",
       "3                          62          -1       107721           0   \n",
       "4                         224        8175         8725           0   \n",
       "\n",
       "   google_index  page_rank      status  \n",
       "0             1          4  legitimate  \n",
       "1             1          2    phishing  \n",
       "2             1          0    phishing  \n",
       "3             0          3  legitimate  \n",
       "4             0          6  legitimate  \n",
       "\n",
       "[5 rows x 89 columns]"
      ]
     },
     "execution_count": 6,
     "metadata": {},
     "output_type": "execute_result"
    }
   ],
   "source": [
    "df.head()"
   ]
  },
  {
   "cell_type": "code",
   "execution_count": 7,
   "id": "9adab297",
   "metadata": {},
   "outputs": [
    {
     "name": "stdout",
     "output_type": "stream",
     "text": [
      "<class 'pandas.core.frame.DataFrame'>\n",
      "RangeIndex: 11430 entries, 0 to 11429\n",
      "Data columns (total 89 columns):\n",
      " #   Column                      Non-Null Count  Dtype  \n",
      "---  ------                      --------------  -----  \n",
      " 0   url                         11430 non-null  object \n",
      " 1   length_url                  11430 non-null  int64  \n",
      " 2   length_hostname             11430 non-null  int64  \n",
      " 3   ip                          11430 non-null  int64  \n",
      " 4   nb_dots                     11430 non-null  int64  \n",
      " 5   nb_hyphens                  11430 non-null  int64  \n",
      " 6   nb_at                       11430 non-null  int64  \n",
      " 7   nb_qm                       11430 non-null  int64  \n",
      " 8   nb_and                      11430 non-null  int64  \n",
      " 9   nb_or                       11430 non-null  int64  \n",
      " 10  nb_eq                       11430 non-null  int64  \n",
      " 11  nb_underscore               11430 non-null  int64  \n",
      " 12  nb_tilde                    11430 non-null  int64  \n",
      " 13  nb_percent                  11430 non-null  int64  \n",
      " 14  nb_slash                    11430 non-null  int64  \n",
      " 15  nb_star                     11430 non-null  int64  \n",
      " 16  nb_colon                    11430 non-null  int64  \n",
      " 17  nb_comma                    11430 non-null  int64  \n",
      " 18  nb_semicolumn               11430 non-null  int64  \n",
      " 19  nb_dollar                   11430 non-null  int64  \n",
      " 20  nb_space                    11430 non-null  int64  \n",
      " 21  nb_www                      11430 non-null  int64  \n",
      " 22  nb_com                      11430 non-null  int64  \n",
      " 23  nb_dslash                   11430 non-null  int64  \n",
      " 24  http_in_path                11430 non-null  int64  \n",
      " 25  https_token                 11430 non-null  int64  \n",
      " 26  ratio_digits_url            11430 non-null  float64\n",
      " 27  ratio_digits_host           11430 non-null  float64\n",
      " 28  punycode                    11430 non-null  int64  \n",
      " 29  port                        11430 non-null  int64  \n",
      " 30  tld_in_path                 11430 non-null  int64  \n",
      " 31  tld_in_subdomain            11430 non-null  int64  \n",
      " 32  abnormal_subdomain          11430 non-null  int64  \n",
      " 33  nb_subdomains               11430 non-null  int64  \n",
      " 34  prefix_suffix               11430 non-null  int64  \n",
      " 35  random_domain               11430 non-null  int64  \n",
      " 36  shortening_service          11430 non-null  int64  \n",
      " 37  path_extension              11430 non-null  int64  \n",
      " 38  nb_redirection              11430 non-null  int64  \n",
      " 39  nb_external_redirection     11430 non-null  int64  \n",
      " 40  length_words_raw            11430 non-null  int64  \n",
      " 41  char_repeat                 11430 non-null  int64  \n",
      " 42  shortest_words_raw          11430 non-null  int64  \n",
      " 43  shortest_word_host          11430 non-null  int64  \n",
      " 44  shortest_word_path          11430 non-null  int64  \n",
      " 45  longest_words_raw           11430 non-null  int64  \n",
      " 46  longest_word_host           11430 non-null  int64  \n",
      " 47  longest_word_path           11430 non-null  int64  \n",
      " 48  avg_words_raw               11430 non-null  float64\n",
      " 49  avg_word_host               11430 non-null  float64\n",
      " 50  avg_word_path               11430 non-null  float64\n",
      " 51  phish_hints                 11430 non-null  int64  \n",
      " 52  domain_in_brand             11430 non-null  int64  \n",
      " 53  brand_in_subdomain          11430 non-null  int64  \n",
      " 54  brand_in_path               11430 non-null  int64  \n",
      " 55  suspecious_tld              11430 non-null  int64  \n",
      " 56  statistical_report          11430 non-null  int64  \n",
      " 57  nb_hyperlinks               11430 non-null  int64  \n",
      " 58  ratio_intHyperlinks         11430 non-null  float64\n",
      " 59  ratio_extHyperlinks         11430 non-null  float64\n",
      " 60  ratio_nullHyperlinks        11430 non-null  int64  \n",
      " 61  nb_extCSS                   11430 non-null  int64  \n",
      " 62  ratio_intRedirection        11430 non-null  int64  \n",
      " 63  ratio_extRedirection        11430 non-null  float64\n",
      " 64  ratio_intErrors             11430 non-null  int64  \n",
      " 65  ratio_extErrors             11430 non-null  float64\n",
      " 66  login_form                  11430 non-null  int64  \n",
      " 67  external_favicon            11430 non-null  int64  \n",
      " 68  links_in_tags               11430 non-null  float64\n",
      " 69  submit_email                11430 non-null  int64  \n",
      " 70  ratio_intMedia              11430 non-null  float64\n",
      " 71  ratio_extMedia              11430 non-null  float64\n",
      " 72  sfh                         11430 non-null  int64  \n",
      " 73  iframe                      11430 non-null  int64  \n",
      " 74  popup_window                11430 non-null  int64  \n",
      " 75  safe_anchor                 11430 non-null  float64\n",
      " 76  onmouseover                 11430 non-null  int64  \n",
      " 77  right_clic                  11430 non-null  int64  \n",
      " 78  empty_title                 11430 non-null  int64  \n",
      " 79  domain_in_title             11430 non-null  int64  \n",
      " 80  domain_with_copyright       11430 non-null  int64  \n",
      " 81  whois_registered_domain     11430 non-null  int64  \n",
      " 82  domain_registration_length  11430 non-null  int64  \n",
      " 83  domain_age                  11430 non-null  int64  \n",
      " 84  web_traffic                 11430 non-null  int64  \n",
      " 85  dns_record                  11430 non-null  int64  \n",
      " 86  google_index                11430 non-null  int64  \n",
      " 87  page_rank                   11430 non-null  int64  \n",
      " 88  status                      11430 non-null  object \n",
      "dtypes: float64(13), int64(74), object(2)\n",
      "memory usage: 7.8+ MB\n"
     ]
    }
   ],
   "source": [
    "df.info()"
   ]
  },
  {
   "cell_type": "code",
   "execution_count": 8,
   "id": "ff16205c",
   "metadata": {},
   "outputs": [
    {
     "data": {
      "text/plain": [
       "Index(['url', 'length_url', 'length_hostname', 'ip', 'nb_dots', 'nb_hyphens',\n",
       "       'nb_at', 'nb_qm', 'nb_and', 'nb_or', 'nb_eq', 'nb_underscore',\n",
       "       'nb_tilde', 'nb_percent', 'nb_slash', 'nb_star', 'nb_colon', 'nb_comma',\n",
       "       'nb_semicolumn', 'nb_dollar', 'nb_space', 'nb_www', 'nb_com',\n",
       "       'nb_dslash', 'http_in_path', 'https_token', 'ratio_digits_url',\n",
       "       'ratio_digits_host', 'punycode', 'port', 'tld_in_path',\n",
       "       'tld_in_subdomain', 'abnormal_subdomain', 'nb_subdomains',\n",
       "       'prefix_suffix', 'random_domain', 'shortening_service',\n",
       "       'path_extension', 'nb_redirection', 'nb_external_redirection',\n",
       "       'length_words_raw', 'char_repeat', 'shortest_words_raw',\n",
       "       'shortest_word_host', 'shortest_word_path', 'longest_words_raw',\n",
       "       'longest_word_host', 'longest_word_path', 'avg_words_raw',\n",
       "       'avg_word_host', 'avg_word_path', 'phish_hints', 'domain_in_brand',\n",
       "       'brand_in_subdomain', 'brand_in_path', 'suspecious_tld',\n",
       "       'statistical_report', 'nb_hyperlinks', 'ratio_intHyperlinks',\n",
       "       'ratio_extHyperlinks', 'ratio_nullHyperlinks', 'nb_extCSS',\n",
       "       'ratio_intRedirection', 'ratio_extRedirection', 'ratio_intErrors',\n",
       "       'ratio_extErrors', 'login_form', 'external_favicon', 'links_in_tags',\n",
       "       'submit_email', 'ratio_intMedia', 'ratio_extMedia', 'sfh', 'iframe',\n",
       "       'popup_window', 'safe_anchor', 'onmouseover', 'right_clic',\n",
       "       'empty_title', 'domain_in_title', 'domain_with_copyright',\n",
       "       'whois_registered_domain', 'domain_registration_length', 'domain_age',\n",
       "       'web_traffic', 'dns_record', 'google_index', 'page_rank', 'status'],\n",
       "      dtype='object')"
      ]
     },
     "execution_count": 8,
     "metadata": {},
     "output_type": "execute_result"
    }
   ],
   "source": [
    "df.columns"
   ]
  },
  {
   "cell_type": "code",
   "execution_count": 9,
   "id": "d837ebe7",
   "metadata": {},
   "outputs": [
    {
     "data": {
      "text/plain": [
       "legitimate    5715\n",
       "phishing      5715\n",
       "Name: status, dtype: int64"
      ]
     },
     "execution_count": 9,
     "metadata": {},
     "output_type": "execute_result"
    }
   ],
   "source": [
    "df['status'].value_counts()"
   ]
  },
  {
   "cell_type": "code",
   "execution_count": 10,
   "id": "946fd7db",
   "metadata": {},
   "outputs": [],
   "source": [
    "#change status into int dtype with legitimate as 0 and phishing as 1\n",
    "mapping = {'legitimate':0, 'phishing':1}\n",
    "\n",
    "df['status'] = df['status'].map(mapping)"
   ]
  },
  {
   "cell_type": "code",
   "execution_count": 11,
   "id": "698e55da",
   "metadata": {},
   "outputs": [
    {
     "data": {
      "text/plain": [
       "0    5715\n",
       "1    5715\n",
       "Name: status, dtype: int64"
      ]
     },
     "execution_count": 11,
     "metadata": {},
     "output_type": "execute_result"
    }
   ],
   "source": [
    "df['status'].value_counts()"
   ]
  },
  {
   "cell_type": "code",
   "execution_count": 12,
   "id": "996b3f2c",
   "metadata": {},
   "outputs": [
    {
     "name": "stderr",
     "output_type": "stream",
     "text": [
      "C:\\Users\\pc\\AppData\\Local\\Temp\\ipykernel_18084\\2355143037.py:1: FutureWarning: The default value of numeric_only in DataFrame.corr is deprecated. In a future version, it will default to False. Select only valid columns or specify the value of numeric_only to silence this warning.\n",
      "  corr_matrix = df.corr()\n"
     ]
    },
    {
     "data": {
      "text/html": [
       "<div>\n",
       "<style scoped>\n",
       "    .dataframe tbody tr th:only-of-type {\n",
       "        vertical-align: middle;\n",
       "    }\n",
       "\n",
       "    .dataframe tbody tr th {\n",
       "        vertical-align: top;\n",
       "    }\n",
       "\n",
       "    .dataframe thead th {\n",
       "        text-align: right;\n",
       "    }\n",
       "</style>\n",
       "<table border=\"1\" class=\"dataframe\">\n",
       "  <thead>\n",
       "    <tr style=\"text-align: right;\">\n",
       "      <th></th>\n",
       "      <th>length_url</th>\n",
       "      <th>length_hostname</th>\n",
       "      <th>ip</th>\n",
       "      <th>nb_dots</th>\n",
       "      <th>nb_hyphens</th>\n",
       "      <th>nb_at</th>\n",
       "      <th>nb_qm</th>\n",
       "      <th>nb_and</th>\n",
       "      <th>nb_or</th>\n",
       "      <th>nb_eq</th>\n",
       "      <th>...</th>\n",
       "      <th>domain_in_title</th>\n",
       "      <th>domain_with_copyright</th>\n",
       "      <th>whois_registered_domain</th>\n",
       "      <th>domain_registration_length</th>\n",
       "      <th>domain_age</th>\n",
       "      <th>web_traffic</th>\n",
       "      <th>dns_record</th>\n",
       "      <th>google_index</th>\n",
       "      <th>page_rank</th>\n",
       "      <th>status</th>\n",
       "    </tr>\n",
       "  </thead>\n",
       "  <tbody>\n",
       "    <tr>\n",
       "      <th>length_url</th>\n",
       "      <td>1.000000</td>\n",
       "      <td>0.223025</td>\n",
       "      <td>0.453961</td>\n",
       "      <td>0.443589</td>\n",
       "      <td>0.399564</td>\n",
       "      <td>0.150739</td>\n",
       "      <td>0.520930</td>\n",
       "      <td>0.576268</td>\n",
       "      <td>NaN</td>\n",
       "      <td>0.621745</td>\n",
       "      <td>...</td>\n",
       "      <td>0.125159</td>\n",
       "      <td>-0.006476</td>\n",
       "      <td>-0.007082</td>\n",
       "      <td>0.002799</td>\n",
       "      <td>-0.006798</td>\n",
       "      <td>0.072205</td>\n",
       "      <td>0.023357</td>\n",
       "      <td>0.236395</td>\n",
       "      <td>-0.102582</td>\n",
       "      <td>0.248580</td>\n",
       "    </tr>\n",
       "    <tr>\n",
       "      <th>length_hostname</th>\n",
       "      <td>0.223025</td>\n",
       "      <td>1.000000</td>\n",
       "      <td>0.252013</td>\n",
       "      <td>0.408956</td>\n",
       "      <td>0.057702</td>\n",
       "      <td>0.071793</td>\n",
       "      <td>0.162400</td>\n",
       "      <td>0.145617</td>\n",
       "      <td>NaN</td>\n",
       "      <td>0.183405</td>\n",
       "      <td>...</td>\n",
       "      <td>0.217284</td>\n",
       "      <td>0.074707</td>\n",
       "      <td>-0.097794</td>\n",
       "      <td>-0.041081</td>\n",
       "      <td>0.013854</td>\n",
       "      <td>0.163238</td>\n",
       "      <td>-0.023344</td>\n",
       "      <td>0.213990</td>\n",
       "      <td>-0.159342</td>\n",
       "      <td>0.238322</td>\n",
       "    </tr>\n",
       "    <tr>\n",
       "      <th>ip</th>\n",
       "      <td>0.453961</td>\n",
       "      <td>0.252013</td>\n",
       "      <td>1.000000</td>\n",
       "      <td>0.288398</td>\n",
       "      <td>0.109860</td>\n",
       "      <td>0.059401</td>\n",
       "      <td>0.405434</td>\n",
       "      <td>0.383262</td>\n",
       "      <td>NaN</td>\n",
       "      <td>0.440972</td>\n",
       "      <td>...</td>\n",
       "      <td>0.137716</td>\n",
       "      <td>0.014561</td>\n",
       "      <td>0.053246</td>\n",
       "      <td>-0.108869</td>\n",
       "      <td>-0.077020</td>\n",
       "      <td>0.167930</td>\n",
       "      <td>0.127823</td>\n",
       "      <td>0.270743</td>\n",
       "      <td>-0.218968</td>\n",
       "      <td>0.321698</td>\n",
       "    </tr>\n",
       "    <tr>\n",
       "      <th>nb_dots</th>\n",
       "      <td>0.443589</td>\n",
       "      <td>0.408956</td>\n",
       "      <td>0.288398</td>\n",
       "      <td>1.000000</td>\n",
       "      <td>0.045099</td>\n",
       "      <td>0.263283</td>\n",
       "      <td>0.347411</td>\n",
       "      <td>0.435798</td>\n",
       "      <td>NaN</td>\n",
       "      <td>0.414902</td>\n",
       "      <td>...</td>\n",
       "      <td>0.107789</td>\n",
       "      <td>0.055560</td>\n",
       "      <td>0.056407</td>\n",
       "      <td>-0.024117</td>\n",
       "      <td>-0.007818</td>\n",
       "      <td>0.087969</td>\n",
       "      <td>0.126659</td>\n",
       "      <td>0.209616</td>\n",
       "      <td>-0.097312</td>\n",
       "      <td>0.207029</td>\n",
       "    </tr>\n",
       "    <tr>\n",
       "      <th>nb_hyphens</th>\n",
       "      <td>0.399564</td>\n",
       "      <td>0.057702</td>\n",
       "      <td>0.109860</td>\n",
       "      <td>0.045099</td>\n",
       "      <td>1.000000</td>\n",
       "      <td>0.018770</td>\n",
       "      <td>0.036804</td>\n",
       "      <td>0.120487</td>\n",
       "      <td>NaN</td>\n",
       "      <td>0.107050</td>\n",
       "      <td>...</td>\n",
       "      <td>0.006909</td>\n",
       "      <td>0.020297</td>\n",
       "      <td>-0.055794</td>\n",
       "      <td>0.038163</td>\n",
       "      <td>0.080104</td>\n",
       "      <td>-0.041464</td>\n",
       "      <td>-0.031477</td>\n",
       "      <td>-0.018828</td>\n",
       "      <td>0.104341</td>\n",
       "      <td>-0.100107</td>\n",
       "    </tr>\n",
       "    <tr>\n",
       "      <th>...</th>\n",
       "      <td>...</td>\n",
       "      <td>...</td>\n",
       "      <td>...</td>\n",
       "      <td>...</td>\n",
       "      <td>...</td>\n",
       "      <td>...</td>\n",
       "      <td>...</td>\n",
       "      <td>...</td>\n",
       "      <td>...</td>\n",
       "      <td>...</td>\n",
       "      <td>...</td>\n",
       "      <td>...</td>\n",
       "      <td>...</td>\n",
       "      <td>...</td>\n",
       "      <td>...</td>\n",
       "      <td>...</td>\n",
       "      <td>...</td>\n",
       "      <td>...</td>\n",
       "      <td>...</td>\n",
       "      <td>...</td>\n",
       "      <td>...</td>\n",
       "    </tr>\n",
       "    <tr>\n",
       "      <th>web_traffic</th>\n",
       "      <td>0.072205</td>\n",
       "      <td>0.163238</td>\n",
       "      <td>0.167930</td>\n",
       "      <td>0.087969</td>\n",
       "      <td>-0.041464</td>\n",
       "      <td>-0.009459</td>\n",
       "      <td>0.143777</td>\n",
       "      <td>0.164797</td>\n",
       "      <td>NaN</td>\n",
       "      <td>0.187809</td>\n",
       "      <td>...</td>\n",
       "      <td>0.081786</td>\n",
       "      <td>0.083888</td>\n",
       "      <td>0.022598</td>\n",
       "      <td>-0.110435</td>\n",
       "      <td>-0.096698</td>\n",
       "      <td>1.000000</td>\n",
       "      <td>-0.007113</td>\n",
       "      <td>0.034099</td>\n",
       "      <td>-0.209526</td>\n",
       "      <td>0.060388</td>\n",
       "    </tr>\n",
       "    <tr>\n",
       "      <th>dns_record</th>\n",
       "      <td>0.023357</td>\n",
       "      <td>-0.023344</td>\n",
       "      <td>0.127823</td>\n",
       "      <td>0.126659</td>\n",
       "      <td>-0.031477</td>\n",
       "      <td>0.031611</td>\n",
       "      <td>0.009441</td>\n",
       "      <td>0.076372</td>\n",
       "      <td>NaN</td>\n",
       "      <td>0.052159</td>\n",
       "      <td>...</td>\n",
       "      <td>0.062084</td>\n",
       "      <td>0.043817</td>\n",
       "      <td>0.213899</td>\n",
       "      <td>-0.060811</td>\n",
       "      <td>-0.068023</td>\n",
       "      <td>-0.007113</td>\n",
       "      <td>1.000000</td>\n",
       "      <td>0.096413</td>\n",
       "      <td>-0.142135</td>\n",
       "      <td>0.122119</td>\n",
       "    </tr>\n",
       "    <tr>\n",
       "      <th>google_index</th>\n",
       "      <td>0.236395</td>\n",
       "      <td>0.213990</td>\n",
       "      <td>0.270743</td>\n",
       "      <td>0.209616</td>\n",
       "      <td>-0.018828</td>\n",
       "      <td>0.113217</td>\n",
       "      <td>0.201260</td>\n",
       "      <td>0.129093</td>\n",
       "      <td>NaN</td>\n",
       "      <td>0.167385</td>\n",
       "      <td>...</td>\n",
       "      <td>0.267465</td>\n",
       "      <td>-0.143655</td>\n",
       "      <td>0.040633</td>\n",
       "      <td>-0.134656</td>\n",
       "      <td>-0.210111</td>\n",
       "      <td>0.034099</td>\n",
       "      <td>0.096413</td>\n",
       "      <td>1.000000</td>\n",
       "      <td>-0.389887</td>\n",
       "      <td>0.731171</td>\n",
       "    </tr>\n",
       "    <tr>\n",
       "      <th>page_rank</th>\n",
       "      <td>-0.102582</td>\n",
       "      <td>-0.159342</td>\n",
       "      <td>-0.218968</td>\n",
       "      <td>-0.097312</td>\n",
       "      <td>0.104341</td>\n",
       "      <td>-0.066356</td>\n",
       "      <td>-0.123852</td>\n",
       "      <td>-0.126164</td>\n",
       "      <td>NaN</td>\n",
       "      <td>-0.133089</td>\n",
       "      <td>...</td>\n",
       "      <td>-0.330810</td>\n",
       "      <td>0.058843</td>\n",
       "      <td>-0.155990</td>\n",
       "      <td>0.345751</td>\n",
       "      <td>0.589602</td>\n",
       "      <td>-0.209526</td>\n",
       "      <td>-0.142135</td>\n",
       "      <td>-0.389887</td>\n",
       "      <td>1.000000</td>\n",
       "      <td>-0.511137</td>\n",
       "    </tr>\n",
       "    <tr>\n",
       "      <th>status</th>\n",
       "      <td>0.248580</td>\n",
       "      <td>0.238322</td>\n",
       "      <td>0.321698</td>\n",
       "      <td>0.207029</td>\n",
       "      <td>-0.100107</td>\n",
       "      <td>0.142915</td>\n",
       "      <td>0.294319</td>\n",
       "      <td>0.170546</td>\n",
       "      <td>NaN</td>\n",
       "      <td>0.233386</td>\n",
       "      <td>...</td>\n",
       "      <td>0.342807</td>\n",
       "      <td>-0.173098</td>\n",
       "      <td>0.066979</td>\n",
       "      <td>-0.161719</td>\n",
       "      <td>-0.331889</td>\n",
       "      <td>0.060388</td>\n",
       "      <td>0.122119</td>\n",
       "      <td>0.731171</td>\n",
       "      <td>-0.511137</td>\n",
       "      <td>1.000000</td>\n",
       "    </tr>\n",
       "  </tbody>\n",
       "</table>\n",
       "<p>88 rows × 88 columns</p>\n",
       "</div>"
      ],
      "text/plain": [
       "                 length_url  length_hostname        ip   nb_dots  nb_hyphens  \\\n",
       "length_url         1.000000         0.223025  0.453961  0.443589    0.399564   \n",
       "length_hostname    0.223025         1.000000  0.252013  0.408956    0.057702   \n",
       "ip                 0.453961         0.252013  1.000000  0.288398    0.109860   \n",
       "nb_dots            0.443589         0.408956  0.288398  1.000000    0.045099   \n",
       "nb_hyphens         0.399564         0.057702  0.109860  0.045099    1.000000   \n",
       "...                     ...              ...       ...       ...         ...   \n",
       "web_traffic        0.072205         0.163238  0.167930  0.087969   -0.041464   \n",
       "dns_record         0.023357        -0.023344  0.127823  0.126659   -0.031477   \n",
       "google_index       0.236395         0.213990  0.270743  0.209616   -0.018828   \n",
       "page_rank         -0.102582        -0.159342 -0.218968 -0.097312    0.104341   \n",
       "status             0.248580         0.238322  0.321698  0.207029   -0.100107   \n",
       "\n",
       "                    nb_at     nb_qm    nb_and  nb_or     nb_eq  ...  \\\n",
       "length_url       0.150739  0.520930  0.576268    NaN  0.621745  ...   \n",
       "length_hostname  0.071793  0.162400  0.145617    NaN  0.183405  ...   \n",
       "ip               0.059401  0.405434  0.383262    NaN  0.440972  ...   \n",
       "nb_dots          0.263283  0.347411  0.435798    NaN  0.414902  ...   \n",
       "nb_hyphens       0.018770  0.036804  0.120487    NaN  0.107050  ...   \n",
       "...                   ...       ...       ...    ...       ...  ...   \n",
       "web_traffic     -0.009459  0.143777  0.164797    NaN  0.187809  ...   \n",
       "dns_record       0.031611  0.009441  0.076372    NaN  0.052159  ...   \n",
       "google_index     0.113217  0.201260  0.129093    NaN  0.167385  ...   \n",
       "page_rank       -0.066356 -0.123852 -0.126164    NaN -0.133089  ...   \n",
       "status           0.142915  0.294319  0.170546    NaN  0.233386  ...   \n",
       "\n",
       "                 domain_in_title  domain_with_copyright  \\\n",
       "length_url              0.125159              -0.006476   \n",
       "length_hostname         0.217284               0.074707   \n",
       "ip                      0.137716               0.014561   \n",
       "nb_dots                 0.107789               0.055560   \n",
       "nb_hyphens              0.006909               0.020297   \n",
       "...                          ...                    ...   \n",
       "web_traffic             0.081786               0.083888   \n",
       "dns_record              0.062084               0.043817   \n",
       "google_index            0.267465              -0.143655   \n",
       "page_rank              -0.330810               0.058843   \n",
       "status                  0.342807              -0.173098   \n",
       "\n",
       "                 whois_registered_domain  domain_registration_length  \\\n",
       "length_url                     -0.007082                    0.002799   \n",
       "length_hostname                -0.097794                   -0.041081   \n",
       "ip                              0.053246                   -0.108869   \n",
       "nb_dots                         0.056407                   -0.024117   \n",
       "nb_hyphens                     -0.055794                    0.038163   \n",
       "...                                  ...                         ...   \n",
       "web_traffic                     0.022598                   -0.110435   \n",
       "dns_record                      0.213899                   -0.060811   \n",
       "google_index                    0.040633                   -0.134656   \n",
       "page_rank                      -0.155990                    0.345751   \n",
       "status                          0.066979                   -0.161719   \n",
       "\n",
       "                 domain_age  web_traffic  dns_record  google_index  page_rank  \\\n",
       "length_url        -0.006798     0.072205    0.023357      0.236395  -0.102582   \n",
       "length_hostname    0.013854     0.163238   -0.023344      0.213990  -0.159342   \n",
       "ip                -0.077020     0.167930    0.127823      0.270743  -0.218968   \n",
       "nb_dots           -0.007818     0.087969    0.126659      0.209616  -0.097312   \n",
       "nb_hyphens         0.080104    -0.041464   -0.031477     -0.018828   0.104341   \n",
       "...                     ...          ...         ...           ...        ...   \n",
       "web_traffic       -0.096698     1.000000   -0.007113      0.034099  -0.209526   \n",
       "dns_record        -0.068023    -0.007113    1.000000      0.096413  -0.142135   \n",
       "google_index      -0.210111     0.034099    0.096413      1.000000  -0.389887   \n",
       "page_rank          0.589602    -0.209526   -0.142135     -0.389887   1.000000   \n",
       "status            -0.331889     0.060388    0.122119      0.731171  -0.511137   \n",
       "\n",
       "                   status  \n",
       "length_url       0.248580  \n",
       "length_hostname  0.238322  \n",
       "ip               0.321698  \n",
       "nb_dots          0.207029  \n",
       "nb_hyphens      -0.100107  \n",
       "...                   ...  \n",
       "web_traffic      0.060388  \n",
       "dns_record       0.122119  \n",
       "google_index     0.731171  \n",
       "page_rank       -0.511137  \n",
       "status           1.000000  \n",
       "\n",
       "[88 rows x 88 columns]"
      ]
     },
     "execution_count": 12,
     "metadata": {},
     "output_type": "execute_result"
    }
   ],
   "source": [
    "corr_matrix = df.corr()\n",
    "corr_matrix"
   ]
  },
  {
   "cell_type": "code",
   "execution_count": 13,
   "id": "c8cbc341",
   "metadata": {},
   "outputs": [
    {
     "data": {
      "text/plain": [
       "length_url         0.248580\n",
       "length_hostname    0.238322\n",
       "ip                 0.321698\n",
       "nb_dots            0.207029\n",
       "nb_hyphens        -0.100107\n",
       "                     ...   \n",
       "web_traffic        0.060388\n",
       "dns_record         0.122119\n",
       "google_index       0.731171\n",
       "page_rank         -0.511137\n",
       "status             1.000000\n",
       "Name: status, Length: 88, dtype: float64"
      ]
     },
     "execution_count": 13,
     "metadata": {},
     "output_type": "execute_result"
    }
   ],
   "source": [
    "target_corr = corr_matrix['status']\n",
    "target_corr"
   ]
  },
  {
   "cell_type": "code",
   "execution_count": 14,
   "id": "6e031c40",
   "metadata": {},
   "outputs": [
    {
     "data": {
      "text/plain": [
       "['length_url',\n",
       " 'length_hostname',\n",
       " 'ip',\n",
       " 'nb_dots',\n",
       " 'nb_hyphens',\n",
       " 'nb_at',\n",
       " 'nb_qm',\n",
       " 'nb_and',\n",
       " 'nb_eq',\n",
       " 'nb_slash',\n",
       " 'nb_semicolumn',\n",
       " 'nb_www',\n",
       " 'nb_com',\n",
       " 'https_token',\n",
       " 'ratio_digits_url',\n",
       " 'ratio_digits_host',\n",
       " 'tld_in_subdomain',\n",
       " 'abnormal_subdomain',\n",
       " 'nb_subdomains',\n",
       " 'prefix_suffix',\n",
       " 'shortening_service',\n",
       " 'length_words_raw',\n",
       " 'shortest_word_host',\n",
       " 'longest_words_raw',\n",
       " 'longest_word_host',\n",
       " 'longest_word_path',\n",
       " 'avg_words_raw',\n",
       " 'avg_word_host',\n",
       " 'avg_word_path',\n",
       " 'phish_hints',\n",
       " 'suspecious_tld',\n",
       " 'statistical_report',\n",
       " 'nb_hyperlinks',\n",
       " 'ratio_intHyperlinks',\n",
       " 'ratio_extRedirection',\n",
       " 'external_favicon',\n",
       " 'links_in_tags',\n",
       " 'ratio_intMedia',\n",
       " 'ratio_extMedia',\n",
       " 'safe_anchor',\n",
       " 'empty_title',\n",
       " 'domain_in_title',\n",
       " 'domain_with_copyright',\n",
       " 'domain_registration_length',\n",
       " 'domain_age',\n",
       " 'dns_record',\n",
       " 'google_index',\n",
       " 'page_rank',\n",
       " 'status']"
      ]
     },
     "execution_count": 14,
     "metadata": {},
     "output_type": "execute_result"
    }
   ],
   "source": [
    "#only choose features with abs value > 0.1\n",
    "\n",
    "threshold=0.1\n",
    "relevant_features = target_corr[abs(target_corr)>threshold].index.tolist()\n",
    "relevant_features"
   ]
  },
  {
   "cell_type": "code",
   "execution_count": 15,
   "id": "b43f75ff",
   "metadata": {},
   "outputs": [],
   "source": [
    "#only select relevant features\n",
    "\n",
    "X = df[relevant_features]\n",
    "X = X.drop('status', axis=1)\n",
    "y = df['status']"
   ]
  },
  {
   "cell_type": "code",
   "execution_count": 16,
   "id": "5e1bb10f",
   "metadata": {},
   "outputs": [
    {
     "data": {
      "text/html": [
       "<div>\n",
       "<style scoped>\n",
       "    .dataframe tbody tr th:only-of-type {\n",
       "        vertical-align: middle;\n",
       "    }\n",
       "\n",
       "    .dataframe tbody tr th {\n",
       "        vertical-align: top;\n",
       "    }\n",
       "\n",
       "    .dataframe thead th {\n",
       "        text-align: right;\n",
       "    }\n",
       "</style>\n",
       "<table border=\"1\" class=\"dataframe\">\n",
       "  <thead>\n",
       "    <tr style=\"text-align: right;\">\n",
       "      <th></th>\n",
       "      <th>length_url</th>\n",
       "      <th>length_hostname</th>\n",
       "      <th>ip</th>\n",
       "      <th>nb_dots</th>\n",
       "      <th>nb_hyphens</th>\n",
       "      <th>nb_at</th>\n",
       "      <th>nb_qm</th>\n",
       "      <th>nb_and</th>\n",
       "      <th>nb_eq</th>\n",
       "      <th>nb_slash</th>\n",
       "      <th>...</th>\n",
       "      <th>ratio_extMedia</th>\n",
       "      <th>safe_anchor</th>\n",
       "      <th>empty_title</th>\n",
       "      <th>domain_in_title</th>\n",
       "      <th>domain_with_copyright</th>\n",
       "      <th>domain_registration_length</th>\n",
       "      <th>domain_age</th>\n",
       "      <th>dns_record</th>\n",
       "      <th>google_index</th>\n",
       "      <th>page_rank</th>\n",
       "    </tr>\n",
       "  </thead>\n",
       "  <tbody>\n",
       "    <tr>\n",
       "      <th>0</th>\n",
       "      <td>37</td>\n",
       "      <td>19</td>\n",
       "      <td>0</td>\n",
       "      <td>3</td>\n",
       "      <td>0</td>\n",
       "      <td>0</td>\n",
       "      <td>0</td>\n",
       "      <td>0</td>\n",
       "      <td>0</td>\n",
       "      <td>3</td>\n",
       "      <td>...</td>\n",
       "      <td>0.000000</td>\n",
       "      <td>0.0</td>\n",
       "      <td>0</td>\n",
       "      <td>0</td>\n",
       "      <td>1</td>\n",
       "      <td>45</td>\n",
       "      <td>-1</td>\n",
       "      <td>1</td>\n",
       "      <td>1</td>\n",
       "      <td>4</td>\n",
       "    </tr>\n",
       "    <tr>\n",
       "      <th>1</th>\n",
       "      <td>77</td>\n",
       "      <td>23</td>\n",
       "      <td>1</td>\n",
       "      <td>1</td>\n",
       "      <td>0</td>\n",
       "      <td>0</td>\n",
       "      <td>0</td>\n",
       "      <td>0</td>\n",
       "      <td>0</td>\n",
       "      <td>5</td>\n",
       "      <td>...</td>\n",
       "      <td>20.000000</td>\n",
       "      <td>100.0</td>\n",
       "      <td>0</td>\n",
       "      <td>1</td>\n",
       "      <td>0</td>\n",
       "      <td>77</td>\n",
       "      <td>5767</td>\n",
       "      <td>0</td>\n",
       "      <td>1</td>\n",
       "      <td>2</td>\n",
       "    </tr>\n",
       "    <tr>\n",
       "      <th>2</th>\n",
       "      <td>126</td>\n",
       "      <td>50</td>\n",
       "      <td>1</td>\n",
       "      <td>4</td>\n",
       "      <td>1</td>\n",
       "      <td>0</td>\n",
       "      <td>1</td>\n",
       "      <td>2</td>\n",
       "      <td>3</td>\n",
       "      <td>5</td>\n",
       "      <td>...</td>\n",
       "      <td>0.000000</td>\n",
       "      <td>100.0</td>\n",
       "      <td>0</td>\n",
       "      <td>1</td>\n",
       "      <td>0</td>\n",
       "      <td>14</td>\n",
       "      <td>4004</td>\n",
       "      <td>0</td>\n",
       "      <td>1</td>\n",
       "      <td>0</td>\n",
       "    </tr>\n",
       "    <tr>\n",
       "      <th>3</th>\n",
       "      <td>18</td>\n",
       "      <td>11</td>\n",
       "      <td>0</td>\n",
       "      <td>2</td>\n",
       "      <td>0</td>\n",
       "      <td>0</td>\n",
       "      <td>0</td>\n",
       "      <td>0</td>\n",
       "      <td>0</td>\n",
       "      <td>2</td>\n",
       "      <td>...</td>\n",
       "      <td>3.571429</td>\n",
       "      <td>62.5</td>\n",
       "      <td>0</td>\n",
       "      <td>1</td>\n",
       "      <td>0</td>\n",
       "      <td>62</td>\n",
       "      <td>-1</td>\n",
       "      <td>0</td>\n",
       "      <td>0</td>\n",
       "      <td>3</td>\n",
       "    </tr>\n",
       "    <tr>\n",
       "      <th>4</th>\n",
       "      <td>55</td>\n",
       "      <td>15</td>\n",
       "      <td>0</td>\n",
       "      <td>2</td>\n",
       "      <td>2</td>\n",
       "      <td>0</td>\n",
       "      <td>0</td>\n",
       "      <td>0</td>\n",
       "      <td>0</td>\n",
       "      <td>5</td>\n",
       "      <td>...</td>\n",
       "      <td>100.000000</td>\n",
       "      <td>0.0</td>\n",
       "      <td>0</td>\n",
       "      <td>0</td>\n",
       "      <td>1</td>\n",
       "      <td>224</td>\n",
       "      <td>8175</td>\n",
       "      <td>0</td>\n",
       "      <td>0</td>\n",
       "      <td>6</td>\n",
       "    </tr>\n",
       "  </tbody>\n",
       "</table>\n",
       "<p>5 rows × 48 columns</p>\n",
       "</div>"
      ],
      "text/plain": [
       "   length_url  length_hostname  ip  nb_dots  nb_hyphens  nb_at  nb_qm  nb_and  \\\n",
       "0          37               19   0        3           0      0      0       0   \n",
       "1          77               23   1        1           0      0      0       0   \n",
       "2         126               50   1        4           1      0      1       2   \n",
       "3          18               11   0        2           0      0      0       0   \n",
       "4          55               15   0        2           2      0      0       0   \n",
       "\n",
       "   nb_eq  nb_slash  ...  ratio_extMedia  safe_anchor  empty_title  \\\n",
       "0      0         3  ...        0.000000          0.0            0   \n",
       "1      0         5  ...       20.000000        100.0            0   \n",
       "2      3         5  ...        0.000000        100.0            0   \n",
       "3      0         2  ...        3.571429         62.5            0   \n",
       "4      0         5  ...      100.000000          0.0            0   \n",
       "\n",
       "   domain_in_title  domain_with_copyright  domain_registration_length  \\\n",
       "0                0                      1                          45   \n",
       "1                1                      0                          77   \n",
       "2                1                      0                          14   \n",
       "3                1                      0                          62   \n",
       "4                0                      1                         224   \n",
       "\n",
       "   domain_age  dns_record  google_index  page_rank  \n",
       "0          -1           1             1          4  \n",
       "1        5767           0             1          2  \n",
       "2        4004           0             1          0  \n",
       "3          -1           0             0          3  \n",
       "4        8175           0             0          6  \n",
       "\n",
       "[5 rows x 48 columns]"
      ]
     },
     "execution_count": 16,
     "metadata": {},
     "output_type": "execute_result"
    }
   ],
   "source": [
    "X.head()"
   ]
  },
  {
   "cell_type": "code",
   "execution_count": 17,
   "id": "1983beac",
   "metadata": {},
   "outputs": [
    {
     "data": {
      "text/plain": [
       "0    0\n",
       "1    1\n",
       "2    1\n",
       "3    0\n",
       "4    0\n",
       "Name: status, dtype: int64"
      ]
     },
     "execution_count": 17,
     "metadata": {},
     "output_type": "execute_result"
    }
   ],
   "source": [
    "y.head()"
   ]
  },
  {
   "cell_type": "code",
   "execution_count": null,
   "id": "700885ab",
   "metadata": {},
   "outputs": [],
   "source": []
  },
  {
   "cell_type": "markdown",
   "id": "c21dd978",
   "metadata": {},
   "source": [
    "# Model Development"
   ]
  },
  {
   "cell_type": "code",
   "execution_count": 18,
   "id": "86bbae99",
   "metadata": {},
   "outputs": [],
   "source": [
    "X_train, X_test, y_train, y_test = train_test_split(X,y, test_size=0.2, random_state=42)"
   ]
  },
  {
   "cell_type": "code",
   "execution_count": 19,
   "id": "58535199",
   "metadata": {},
   "outputs": [],
   "source": [
    "scaler = StandardScaler()"
   ]
  },
  {
   "cell_type": "code",
   "execution_count": 20,
   "id": "8b7ec5fa",
   "metadata": {},
   "outputs": [],
   "source": [
    "X_train_scaled = scaler.fit_transform(X_train)\n",
    "X_test_scaled = scaler.fit_transform(X_test)"
   ]
  },
  {
   "cell_type": "markdown",
   "id": "4693c617",
   "metadata": {},
   "source": [
    "## Random Forest"
   ]
  },
  {
   "cell_type": "code",
   "execution_count": 21,
   "id": "b9d64230",
   "metadata": {},
   "outputs": [
    {
     "data": {
      "text/html": [
       "<style>#sk-container-id-1 {color: black;background-color: white;}#sk-container-id-1 pre{padding: 0;}#sk-container-id-1 div.sk-toggleable {background-color: white;}#sk-container-id-1 label.sk-toggleable__label {cursor: pointer;display: block;width: 100%;margin-bottom: 0;padding: 0.3em;box-sizing: border-box;text-align: center;}#sk-container-id-1 label.sk-toggleable__label-arrow:before {content: \"▸\";float: left;margin-right: 0.25em;color: #696969;}#sk-container-id-1 label.sk-toggleable__label-arrow:hover:before {color: black;}#sk-container-id-1 div.sk-estimator:hover label.sk-toggleable__label-arrow:before {color: black;}#sk-container-id-1 div.sk-toggleable__content {max-height: 0;max-width: 0;overflow: hidden;text-align: left;background-color: #f0f8ff;}#sk-container-id-1 div.sk-toggleable__content pre {margin: 0.2em;color: black;border-radius: 0.25em;background-color: #f0f8ff;}#sk-container-id-1 input.sk-toggleable__control:checked~div.sk-toggleable__content {max-height: 200px;max-width: 100%;overflow: auto;}#sk-container-id-1 input.sk-toggleable__control:checked~label.sk-toggleable__label-arrow:before {content: \"▾\";}#sk-container-id-1 div.sk-estimator input.sk-toggleable__control:checked~label.sk-toggleable__label {background-color: #d4ebff;}#sk-container-id-1 div.sk-label input.sk-toggleable__control:checked~label.sk-toggleable__label {background-color: #d4ebff;}#sk-container-id-1 input.sk-hidden--visually {border: 0;clip: rect(1px 1px 1px 1px);clip: rect(1px, 1px, 1px, 1px);height: 1px;margin: -1px;overflow: hidden;padding: 0;position: absolute;width: 1px;}#sk-container-id-1 div.sk-estimator {font-family: monospace;background-color: #f0f8ff;border: 1px dotted black;border-radius: 0.25em;box-sizing: border-box;margin-bottom: 0.5em;}#sk-container-id-1 div.sk-estimator:hover {background-color: #d4ebff;}#sk-container-id-1 div.sk-parallel-item::after {content: \"\";width: 100%;border-bottom: 1px solid gray;flex-grow: 1;}#sk-container-id-1 div.sk-label:hover label.sk-toggleable__label {background-color: #d4ebff;}#sk-container-id-1 div.sk-serial::before {content: \"\";position: absolute;border-left: 1px solid gray;box-sizing: border-box;top: 0;bottom: 0;left: 50%;z-index: 0;}#sk-container-id-1 div.sk-serial {display: flex;flex-direction: column;align-items: center;background-color: white;padding-right: 0.2em;padding-left: 0.2em;position: relative;}#sk-container-id-1 div.sk-item {position: relative;z-index: 1;}#sk-container-id-1 div.sk-parallel {display: flex;align-items: stretch;justify-content: center;background-color: white;position: relative;}#sk-container-id-1 div.sk-item::before, #sk-container-id-1 div.sk-parallel-item::before {content: \"\";position: absolute;border-left: 1px solid gray;box-sizing: border-box;top: 0;bottom: 0;left: 50%;z-index: -1;}#sk-container-id-1 div.sk-parallel-item {display: flex;flex-direction: column;z-index: 1;position: relative;background-color: white;}#sk-container-id-1 div.sk-parallel-item:first-child::after {align-self: flex-end;width: 50%;}#sk-container-id-1 div.sk-parallel-item:last-child::after {align-self: flex-start;width: 50%;}#sk-container-id-1 div.sk-parallel-item:only-child::after {width: 0;}#sk-container-id-1 div.sk-dashed-wrapped {border: 1px dashed gray;margin: 0 0.4em 0.5em 0.4em;box-sizing: border-box;padding-bottom: 0.4em;background-color: white;}#sk-container-id-1 div.sk-label label {font-family: monospace;font-weight: bold;display: inline-block;line-height: 1.2em;}#sk-container-id-1 div.sk-label-container {text-align: center;}#sk-container-id-1 div.sk-container {/* jupyter's `normalize.less` sets `[hidden] { display: none; }` but bootstrap.min.css set `[hidden] { display: none !important; }` so we also need the `!important` here to be able to override the default hidden behavior on the sphinx rendered scikit-learn.org. See: https://github.com/scikit-learn/scikit-learn/issues/21755 */display: inline-block !important;position: relative;}#sk-container-id-1 div.sk-text-repr-fallback {display: none;}</style><div id=\"sk-container-id-1\" class=\"sk-top-container\"><div class=\"sk-text-repr-fallback\"><pre>RandomForestClassifier()</pre><b>In a Jupyter environment, please rerun this cell to show the HTML representation or trust the notebook. <br />On GitHub, the HTML representation is unable to render, please try loading this page with nbviewer.org.</b></div><div class=\"sk-container\" hidden><div class=\"sk-item\"><div class=\"sk-estimator sk-toggleable\"><input class=\"sk-toggleable__control sk-hidden--visually\" id=\"sk-estimator-id-1\" type=\"checkbox\" checked><label for=\"sk-estimator-id-1\" class=\"sk-toggleable__label sk-toggleable__label-arrow\">RandomForestClassifier</label><div class=\"sk-toggleable__content\"><pre>RandomForestClassifier()</pre></div></div></div></div></div>"
      ],
      "text/plain": [
       "RandomForestClassifier()"
      ]
     },
     "execution_count": 21,
     "metadata": {},
     "output_type": "execute_result"
    }
   ],
   "source": [
    "rf = RandomForestClassifier()\n",
    "rf.fit(X_train_scaled,y_train)"
   ]
  },
  {
   "cell_type": "code",
   "execution_count": 22,
   "id": "cb3f8907",
   "metadata": {},
   "outputs": [],
   "source": [
    "rf_predict = rf.predict(X_test_scaled)"
   ]
  },
  {
   "cell_type": "code",
   "execution_count": 23,
   "id": "ee787814",
   "metadata": {},
   "outputs": [
    {
     "name": "stdout",
     "output_type": "stream",
     "text": [
      "Accuracy:97%\n"
     ]
    }
   ],
   "source": [
    "accuracy = accuracy_score(y_test,rf_predict)\n",
    "print(\"Accuracy:{}%\".format(round(accuracy *100), 1))"
   ]
  },
  {
   "cell_type": "code",
   "execution_count": 24,
   "id": "6c3cae7d",
   "metadata": {},
   "outputs": [],
   "source": [
    "rf_Accuracy_Score = accuracy_score(y_test,rf_predict)\n",
    "rf_JaccardIndex = jaccard_score(y_test,rf_predict)\n",
    "rf_F1_Score = f1_score(y_test,rf_predict)\n",
    "rf_Log_Loss = log_loss(y_test,rf_predict)"
   ]
  },
  {
   "cell_type": "code",
   "execution_count": 25,
   "id": "26072896",
   "metadata": {},
   "outputs": [
    {
     "name": "stdout",
     "output_type": "stream",
     "text": [
      "Accuracy: 0.968066491688539\n",
      "Jaccard Index: 0.9370689655172414\n",
      "F1 Score: 0.967512238540276\n",
      "Log Loss: 1.1510003050767947\n"
     ]
    }
   ],
   "source": [
    "print(f\"Accuracy: {rf_Accuracy_Score}\")\n",
    "print(f\"Jaccard Index: {rf_JaccardIndex}\")\n",
    "print(f\"F1 Score: {rf_F1_Score}\")\n",
    "print(f\"Log Loss: {rf_Log_Loss}\")"
   ]
  },
  {
   "cell_type": "code",
   "execution_count": 26,
   "id": "2a3fbe76",
   "metadata": {},
   "outputs": [
    {
     "data": {
      "text/plain": [
       "array([[1126,   31],\n",
       "       [  42, 1087]], dtype=int64)"
      ]
     },
     "execution_count": 26,
     "metadata": {},
     "output_type": "execute_result"
    }
   ],
   "source": [
    "rf_conf_matrix = confusion_matrix(y_test,rf_predict)\n",
    "rf_conf_matrix"
   ]
  },
  {
   "cell_type": "code",
   "execution_count": 27,
   "id": "375d32f2",
   "metadata": {},
   "outputs": [
    {
     "data": {
      "image/png": "[encoded data removed]",
      "text/plain": [
       "<Figure size 640x480 with 2 Axes>"
      ]
     },
     "metadata": {},
     "output_type": "display_data"
    }
   ],
   "source": [
    "sns.heatmap(rf_conf_matrix,annot=True, fmt = 'd',cmap='Greens')\n",
    "plt.xlabel('Predicted Label')\n",
    "plt.ylabel('True Label')\n",
    "plt.title('Confusion Matrix')\n",
    "plt.show()"
   ]
  },
  {
   "cell_type": "code",
   "execution_count": 28,
   "id": "60ae9f8a",
   "metadata": {},
   "outputs": [
    {
     "name": "stdout",
     "output_type": "stream",
     "text": [
      "              precision    recall  f1-score   support\n",
      "\n",
      "           0       0.96      0.97      0.97      1157\n",
      "           1       0.97      0.96      0.97      1129\n",
      "\n",
      "    accuracy                           0.97      2286\n",
      "   macro avg       0.97      0.97      0.97      2286\n",
      "weighted avg       0.97      0.97      0.97      2286\n",
      "\n"
     ]
    }
   ],
   "source": [
    "rf_report = classification_report(y_test,rf_predict)\n",
    "print(rf_report)"
   ]
  },
  {
   "cell_type": "markdown",
   "id": "c16222d8",
   "metadata": {},
   "source": [
    "## SVM"
   ]
  },
  {
   "cell_type": "code",
   "execution_count": 29,
   "id": "79b9fb94",
   "metadata": {},
   "outputs": [
    {
     "data": {
      "text/html": [
       "<style>#sk-container-id-2 {color: black;background-color: white;}#sk-container-id-2 pre{padding: 0;}#sk-container-id-2 div.sk-toggleable {background-color: white;}#sk-container-id-2 label.sk-toggleable__label {cursor: pointer;display: block;width: 100%;margin-bottom: 0;padding: 0.3em;box-sizing: border-box;text-align: center;}#sk-container-id-2 label.sk-toggleable__label-arrow:before {content: \"▸\";float: left;margin-right: 0.25em;color: #696969;}#sk-container-id-2 label.sk-toggleable__label-arrow:hover:before {color: black;}#sk-container-id-2 div.sk-estimator:hover label.sk-toggleable__label-arrow:before {color: black;}#sk-container-id-2 div.sk-toggleable__content {max-height: 0;max-width: 0;overflow: hidden;text-align: left;background-color: #f0f8ff;}#sk-container-id-2 div.sk-toggleable__content pre {margin: 0.2em;color: black;border-radius: 0.25em;background-color: #f0f8ff;}#sk-container-id-2 input.sk-toggleable__control:checked~div.sk-toggleable__content {max-height: 200px;max-width: 100%;overflow: auto;}#sk-container-id-2 input.sk-toggleable__control:checked~label.sk-toggleable__label-arrow:before {content: \"▾\";}#sk-container-id-2 div.sk-estimator input.sk-toggleable__control:checked~label.sk-toggleable__label {background-color: #d4ebff;}#sk-container-id-2 div.sk-label input.sk-toggleable__control:checked~label.sk-toggleable__label {background-color: #d4ebff;}#sk-container-id-2 input.sk-hidden--visually {border: 0;clip: rect(1px 1px 1px 1px);clip: rect(1px, 1px, 1px, 1px);height: 1px;margin: -1px;overflow: hidden;padding: 0;position: absolute;width: 1px;}#sk-container-id-2 div.sk-estimator {font-family: monospace;background-color: #f0f8ff;border: 1px dotted black;border-radius: 0.25em;box-sizing: border-box;margin-bottom: 0.5em;}#sk-container-id-2 div.sk-estimator:hover {background-color: #d4ebff;}#sk-container-id-2 div.sk-parallel-item::after {content: \"\";width: 100%;border-bottom: 1px solid gray;flex-grow: 1;}#sk-container-id-2 div.sk-label:hover label.sk-toggleable__label {background-color: #d4ebff;}#sk-container-id-2 div.sk-serial::before {content: \"\";position: absolute;border-left: 1px solid gray;box-sizing: border-box;top: 0;bottom: 0;left: 50%;z-index: 0;}#sk-container-id-2 div.sk-serial {display: flex;flex-direction: column;align-items: center;background-color: white;padding-right: 0.2em;padding-left: 0.2em;position: relative;}#sk-container-id-2 div.sk-item {position: relative;z-index: 1;}#sk-container-id-2 div.sk-parallel {display: flex;align-items: stretch;justify-content: center;background-color: white;position: relative;}#sk-container-id-2 div.sk-item::before, #sk-container-id-2 div.sk-parallel-item::before {content: \"\";position: absolute;border-left: 1px solid gray;box-sizing: border-box;top: 0;bottom: 0;left: 50%;z-index: -1;}#sk-container-id-2 div.sk-parallel-item {display: flex;flex-direction: column;z-index: 1;position: relative;background-color: white;}#sk-container-id-2 div.sk-parallel-item:first-child::after {align-self: flex-end;width: 50%;}#sk-container-id-2 div.sk-parallel-item:last-child::after {align-self: flex-start;width: 50%;}#sk-container-id-2 div.sk-parallel-item:only-child::after {width: 0;}#sk-container-id-2 div.sk-dashed-wrapped {border: 1px dashed gray;margin: 0 0.4em 0.5em 0.4em;box-sizing: border-box;padding-bottom: 0.4em;background-color: white;}#sk-container-id-2 div.sk-label label {font-family: monospace;font-weight: bold;display: inline-block;line-height: 1.2em;}#sk-container-id-2 div.sk-label-container {text-align: center;}#sk-container-id-2 div.sk-container {/* jupyter's `normalize.less` sets `[hidden] { display: none; }` but bootstrap.min.css set `[hidden] { display: none !important; }` so we also need the `!important` here to be able to override the default hidden behavior on the sphinx rendered scikit-learn.org. See: https://github.com/scikit-learn/scikit-learn/issues/21755 */display: inline-block !important;position: relative;}#sk-container-id-2 div.sk-text-repr-fallback {display: none;}</style><div id=\"sk-container-id-2\" class=\"sk-top-container\"><div class=\"sk-text-repr-fallback\"><pre>SVC()</pre><b>In a Jupyter environment, please rerun this cell to show the HTML representation or trust the notebook. <br />On GitHub, the HTML representation is unable to render, please try loading this page with nbviewer.org.</b></div><div class=\"sk-container\" hidden><div class=\"sk-item\"><div class=\"sk-estimator sk-toggleable\"><input class=\"sk-toggleable__control sk-hidden--visually\" id=\"sk-estimator-id-2\" type=\"checkbox\" checked><label for=\"sk-estimator-id-2\" class=\"sk-toggleable__label sk-toggleable__label-arrow\">SVC</label><div class=\"sk-toggleable__content\"><pre>SVC()</pre></div></div></div></div></div>"
      ],
      "text/plain": [
       "SVC()"
      ]
     },
     "execution_count": 29,
     "metadata": {},
     "output_type": "execute_result"
    }
   ],
   "source": [
    "svm = SVC()\n",
    "svm.fit(X_train_scaled,y_train)"
   ]
  },
  {
   "cell_type": "code",
   "execution_count": 30,
   "id": "3b037c82",
   "metadata": {},
   "outputs": [],
   "source": [
    "svm_predict = svm.predict(X_test_scaled)"
   ]
  },
  {
   "cell_type": "code",
   "execution_count": 31,
   "id": "92341ae2",
   "metadata": {},
   "outputs": [
    {
     "name": "stdout",
     "output_type": "stream",
     "text": [
      "Accuracy:97%\n"
     ]
    }
   ],
   "source": [
    "accuracy = accuracy_score(y_test,svm_predict)\n",
    "print(\"Accuracy:{}%\".format(round(accuracy *100), 1))"
   ]
  },
  {
   "cell_type": "code",
   "execution_count": 32,
   "id": "2d0a165f",
   "metadata": {},
   "outputs": [],
   "source": [
    "svm_Accuracy_Score = accuracy_score(y_test,svm_predict)\n",
    "svm_JaccardIndex = jaccard_score(y_test,svm_predict)\n",
    "svm_F1_Score = f1_score(y_test,svm_predict)\n",
    "svm_Log_Loss = log_loss(y_test,svm_predict)"
   ]
  },
  {
   "cell_type": "code",
   "execution_count": 33,
   "id": "2486de0f",
   "metadata": {},
   "outputs": [
    {
     "name": "stdout",
     "output_type": "stream",
     "text": [
      "Accuracy: 0.9654418197725284\n",
      "Jaccard Index: 0.9321888412017167\n",
      "F1 Score: 0.9649044868947134\n",
      "Log Loss: 1.2456030698776273\n"
     ]
    }
   ],
   "source": [
    "print(f\"Accuracy: {svm_Accuracy_Score}\")\n",
    "print(f\"Jaccard Index: {svm_JaccardIndex}\")\n",
    "print(f\"F1 Score: {svm_F1_Score}\")\n",
    "print(f\"Log Loss: {svm_Log_Loss}\")"
   ]
  },
  {
   "cell_type": "code",
   "execution_count": 34,
   "id": "dbcefe53",
   "metadata": {},
   "outputs": [
    {
     "data": {
      "text/plain": [
       "array([[1121,   36],\n",
       "       [  43, 1086]], dtype=int64)"
      ]
     },
     "execution_count": 34,
     "metadata": {},
     "output_type": "execute_result"
    }
   ],
   "source": [
    "svm_conf_matrix = confusion_matrix(y_test,svm_predict)\n",
    "svm_conf_matrix"
   ]
  },
  {
   "cell_type": "code",
   "execution_count": 35,
   "id": "3e8393ec",
   "metadata": {},
   "outputs": [
    {
     "data": {
      "image/png": "[encoded data removed]",
      "text/plain": [
       "<Figure size 640x480 with 2 Axes>"
      ]
     },
     "metadata": {},
     "output_type": "display_data"
    }
   ],
   "source": [
    "sns.heatmap(svm_conf_matrix,annot=True, fmt = 'd',cmap='Greens')\n",
    "plt.xlabel('Predicted Label')\n",
    "plt.ylabel('True Label')\n",
    "plt.title('Confusion Matrix')\n",
    "plt.show()"
   ]
  },
  {
   "cell_type": "markdown",
   "id": "88c8a5ac",
   "metadata": {},
   "source": [
    "## XGBoost"
   ]
  },
  {
   "cell_type": "code",
   "execution_count": 54,
   "id": "255e18d3",
   "metadata": {},
   "outputs": [],
   "source": [
    "params = {\n",
    "    'n_estimators': 100,\n",
    "    'max_depth': 6,       \n",
    "    'learning_rate': 0.1,\n",
    "    'subsample': 0.8,     \n",
    "    'colsample_bytree': 0.8, \n",
    "    'min_child_weight': 1,    \n",
    "    'gamma': 0,                \n",
    "    'objective': 'binary:logistic'\n",
    "}"
   ]
  },
  {
   "cell_type": "code",
   "execution_count": 55,
   "id": "e40c10ab",
   "metadata": {},
   "outputs": [
    {
     "data": {
      "text/html": [
       "<style>#sk-container-id-5 {color: black;background-color: white;}#sk-container-id-5 pre{padding: 0;}#sk-container-id-5 div.sk-toggleable {background-color: white;}#sk-container-id-5 label.sk-toggleable__label {cursor: pointer;display: block;width: 100%;margin-bottom: 0;padding: 0.3em;box-sizing: border-box;text-align: center;}#sk-container-id-5 label.sk-toggleable__label-arrow:before {content: \"▸\";float: left;margin-right: 0.25em;color: #696969;}#sk-container-id-5 label.sk-toggleable__label-arrow:hover:before {color: black;}#sk-container-id-5 div.sk-estimator:hover label.sk-toggleable__label-arrow:before {color: black;}#sk-container-id-5 div.sk-toggleable__content {max-height: 0;max-width: 0;overflow: hidden;text-align: left;background-color: #f0f8ff;}#sk-container-id-5 div.sk-toggleable__content pre {margin: 0.2em;color: black;border-radius: 0.25em;background-color: #f0f8ff;}#sk-container-id-5 input.sk-toggleable__control:checked~div.sk-toggleable__content {max-height: 200px;max-width: 100%;overflow: auto;}#sk-container-id-5 input.sk-toggleable__control:checked~label.sk-toggleable__label-arrow:before {content: \"▾\";}#sk-container-id-5 div.sk-estimator input.sk-toggleable__control:checked~label.sk-toggleable__label {background-color: #d4ebff;}#sk-container-id-5 div.sk-label input.sk-toggleable__control:checked~label.sk-toggleable__label {background-color: #d4ebff;}#sk-container-id-5 input.sk-hidden--visually {border: 0;clip: rect(1px 1px 1px 1px);clip: rect(1px, 1px, 1px, 1px);height: 1px;margin: -1px;overflow: hidden;padding: 0;position: absolute;width: 1px;}#sk-container-id-5 div.sk-estimator {font-family: monospace;background-color: #f0f8ff;border: 1px dotted black;border-radius: 0.25em;box-sizing: border-box;margin-bottom: 0.5em;}#sk-container-id-5 div.sk-estimator:hover {background-color: #d4ebff;}#sk-container-id-5 div.sk-parallel-item::after {content: \"\";width: 100%;border-bottom: 1px solid gray;flex-grow: 1;}#sk-container-id-5 div.sk-label:hover label.sk-toggleable__label {background-color: #d4ebff;}#sk-container-id-5 div.sk-serial::before {content: \"\";position: absolute;border-left: 1px solid gray;box-sizing: border-box;top: 0;bottom: 0;left: 50%;z-index: 0;}#sk-container-id-5 div.sk-serial {display: flex;flex-direction: column;align-items: center;background-color: white;padding-right: 0.2em;padding-left: 0.2em;position: relative;}#sk-container-id-5 div.sk-item {position: relative;z-index: 1;}#sk-container-id-5 div.sk-parallel {display: flex;align-items: stretch;justify-content: center;background-color: white;position: relative;}#sk-container-id-5 div.sk-item::before, #sk-container-id-5 div.sk-parallel-item::before {content: \"\";position: absolute;border-left: 1px solid gray;box-sizing: border-box;top: 0;bottom: 0;left: 50%;z-index: -1;}#sk-container-id-5 div.sk-parallel-item {display: flex;flex-direction: column;z-index: 1;position: relative;background-color: white;}#sk-container-id-5 div.sk-parallel-item:first-child::after {align-self: flex-end;width: 50%;}#sk-container-id-5 div.sk-parallel-item:last-child::after {align-self: flex-start;width: 50%;}#sk-container-id-5 div.sk-parallel-item:only-child::after {width: 0;}#sk-container-id-5 div.sk-dashed-wrapped {border: 1px dashed gray;margin: 0 0.4em 0.5em 0.4em;box-sizing: border-box;padding-bottom: 0.4em;background-color: white;}#sk-container-id-5 div.sk-label label {font-family: monospace;font-weight: bold;display: inline-block;line-height: 1.2em;}#sk-container-id-5 div.sk-label-container {text-align: center;}#sk-container-id-5 div.sk-container {/* jupyter's `normalize.less` sets `[hidden] { display: none; }` but bootstrap.min.css set `[hidden] { display: none !important; }` so we also need the `!important` here to be able to override the default hidden behavior on the sphinx rendered scikit-learn.org. See: https://github.com/scikit-learn/scikit-learn/issues/21755 */display: inline-block !important;position: relative;}#sk-container-id-5 div.sk-text-repr-fallback {display: none;}</style><div id=\"sk-container-id-5\" class=\"sk-top-container\"><div class=\"sk-text-repr-fallback\"><pre>XGBClassifier(base_score=None, booster=None, callbacks=None,\n",
       "              colsample_bylevel=None, colsample_bynode=None,\n",
       "              colsample_bytree=0.8, device=None, early_stopping_rounds=None,\n",
       "              enable_categorical=False, eval_metric=None, feature_types=None,\n",
       "              gamma=0, grow_policy=None, importance_type=None,\n",
       "              interaction_constraints=None, learning_rate=0.1, max_bin=None,\n",
       "              max_cat_threshold=None, max_cat_to_onehot=None,\n",
       "              max_delta_step=None, max_depth=6, max_leaves=None,\n",
       "              min_child_weight=1, missing=nan, monotone_constraints=None,\n",
       "              multi_strategy=None, n_estimators=100, n_jobs=None,\n",
       "              num_parallel_tree=None, random_state=None, ...)</pre><b>In a Jupyter environment, please rerun this cell to show the HTML representation or trust the notebook. <br />On GitHub, the HTML representation is unable to render, please try loading this page with nbviewer.org.</b></div><div class=\"sk-container\" hidden><div class=\"sk-item\"><div class=\"sk-estimator sk-toggleable\"><input class=\"sk-toggleable__control sk-hidden--visually\" id=\"sk-estimator-id-5\" type=\"checkbox\" checked><label for=\"sk-estimator-id-5\" class=\"sk-toggleable__label sk-toggleable__label-arrow\">XGBClassifier</label><div class=\"sk-toggleable__content\"><pre>XGBClassifier(base_score=None, booster=None, callbacks=None,\n",
       "              colsample_bylevel=None, colsample_bynode=None,\n",
       "              colsample_bytree=0.8, device=None, early_stopping_rounds=None,\n",
       "              enable_categorical=False, eval_metric=None, feature_types=None,\n",
       "              gamma=0, grow_policy=None, importance_type=None,\n",
       "              interaction_constraints=None, learning_rate=0.1, max_bin=None,\n",
       "              max_cat_threshold=None, max_cat_to_onehot=None,\n",
       "              max_delta_step=None, max_depth=6, max_leaves=None,\n",
       "              min_child_weight=1, missing=nan, monotone_constraints=None,\n",
       "              multi_strategy=None, n_estimators=100, n_jobs=None,\n",
       "              num_parallel_tree=None, random_state=None, ...)</pre></div></div></div></div></div>"
      ],
      "text/plain": [
       "XGBClassifier(base_score=None, booster=None, callbacks=None,\n",
       "              colsample_bylevel=None, colsample_bynode=None,\n",
       "              colsample_bytree=0.8, device=None, early_stopping_rounds=None,\n",
       "              enable_categorical=False, eval_metric=None, feature_types=None,\n",
       "              gamma=0, grow_policy=None, importance_type=None,\n",
       "              interaction_constraints=None, learning_rate=0.1, max_bin=None,\n",
       "              max_cat_threshold=None, max_cat_to_onehot=None,\n",
       "              max_delta_step=None, max_depth=6, max_leaves=None,\n",
       "              min_child_weight=1, missing=nan, monotone_constraints=None,\n",
       "              multi_strategy=None, n_estimators=100, n_jobs=None,\n",
       "              num_parallel_tree=None, random_state=None, ...)"
      ]
     },
     "execution_count": 55,
     "metadata": {},
     "output_type": "execute_result"
    }
   ],
   "source": [
    "xgb = XGBClassifier(**params)\n",
    "xgb.fit(X_train_scaled,y_train)"
   ]
  },
  {
   "cell_type": "code",
   "execution_count": 56,
   "id": "21bf94c6",
   "metadata": {},
   "outputs": [],
   "source": [
    "xgb_predict = xgb.predict(X_test_scaled)"
   ]
  },
  {
   "cell_type": "code",
   "execution_count": 57,
   "id": "f402264a",
   "metadata": {},
   "outputs": [
    {
     "name": "stdout",
     "output_type": "stream",
     "text": [
      "Accuracy:95%\n"
     ]
    }
   ],
   "source": [
    "accuracy = accuracy_score(y_test,xgb_predict)\n",
    "print(\"Accuracy:{}%\".format(round(accuracy *100), 1))"
   ]
  },
  {
   "cell_type": "code",
   "execution_count": 58,
   "id": "8720bc58",
   "metadata": {},
   "outputs": [],
   "source": [
    "xgb_Accuracy_Score = accuracy_score(y_test,xgb_predict)\n",
    "xgb_JaccardIndex = jaccard_score(y_test,xgb_predict)\n",
    "xgb_F1_Score = f1_score(y_test,xgb_predict)\n",
    "xgb_Log_Loss = log_loss(y_test,xgb_predict)"
   ]
  },
  {
   "cell_type": "code",
   "execution_count": 59,
   "id": "daad7a39",
   "metadata": {},
   "outputs": [
    {
     "name": "stdout",
     "output_type": "stream",
     "text": [
      "Accuracy: 0.9453193350831146\n",
      "Jaccard Index: 0.8958333333333334\n",
      "F1 Score: 0.9450549450549451\n",
      "Log Loss: 1.9708909333506757\n"
     ]
    }
   ],
   "source": [
    "print(f\"Accuracy: {xgb_Accuracy_Score}\")\n",
    "print(f\"Jaccard Index: {xgb_JaccardIndex}\")\n",
    "print(f\"F1 Score: {xgb_F1_Score}\")\n",
    "print(f\"Log Loss: {xgb_Log_Loss}\")"
   ]
  },
  {
   "cell_type": "code",
   "execution_count": 60,
   "id": "3e213d6f",
   "metadata": {},
   "outputs": [
    {
     "data": {
      "text/plain": [
       "array([[1086,   71],\n",
       "       [  54, 1075]], dtype=int64)"
      ]
     },
     "execution_count": 60,
     "metadata": {},
     "output_type": "execute_result"
    }
   ],
   "source": [
    "xgb_conf_matrix = confusion_matrix(y_test,xgb_predict)\n",
    "xgb_conf_matrix"
   ]
  },
  {
   "cell_type": "code",
   "execution_count": 61,
   "id": "db6b725f",
   "metadata": {},
   "outputs": [
    {
     "data": {
      "image/png": "[encoded data removed]",
      "text/plain": [
       "<Figure size 640x480 with 2 Axes>"
      ]
     },
     "metadata": {},
     "output_type": "display_data"
    }
   ],
   "source": [
    "sns.heatmap(xgb_conf_matrix,annot=True, fmt = 'd',cmap='Greens')\n",
    "plt.xlabel('Predicted Label')\n",
    "plt.ylabel('True Label')\n",
    "plt.title('Confusion Matrix')\n",
    "plt.show()"
   ]
  },
  {
   "cell_type": "markdown",
   "id": "7bc74a67",
   "metadata": {},
   "source": [
    "## Model Accurancy"
   ]
  },
  {
   "cell_type": "code",
   "execution_count": 62,
   "id": "e8d77b08",
   "metadata": {},
   "outputs": [],
   "source": [
    "accuracy_scores = {\n",
    "    'Random Forest' : round(accuracy_score(y_test,rf_predict), 2),\n",
    "    'SVM' : round(accuracy_score(y_test,svm_predict), 2),\n",
    "    'XGBoost' : round(accuracy_score(y_test,xgb_predict), 2)\n",
    "}"
   ]
  },
  {
   "cell_type": "code",
   "execution_count": 63,
   "id": "19dff67a",
   "metadata": {},
   "outputs": [
    {
     "data": {
      "text/html": [
       "<div>\n",
       "<style scoped>\n",
       "    .dataframe tbody tr th:only-of-type {\n",
       "        vertical-align: middle;\n",
       "    }\n",
       "\n",
       "    .dataframe tbody tr th {\n",
       "        vertical-align: top;\n",
       "    }\n",
       "\n",
       "    .dataframe thead th {\n",
       "        text-align: right;\n",
       "    }\n",
       "</style>\n",
       "<table border=\"1\" class=\"dataframe\">\n",
       "  <thead>\n",
       "    <tr style=\"text-align: right;\">\n",
       "      <th></th>\n",
       "      <th>Model</th>\n",
       "      <th>Accuracy Score</th>\n",
       "    </tr>\n",
       "  </thead>\n",
       "  <tbody>\n",
       "    <tr>\n",
       "      <th>0</th>\n",
       "      <td>Random Forest</td>\n",
       "      <td>0.97</td>\n",
       "    </tr>\n",
       "    <tr>\n",
       "      <th>1</th>\n",
       "      <td>SVM</td>\n",
       "      <td>0.97</td>\n",
       "    </tr>\n",
       "    <tr>\n",
       "      <th>2</th>\n",
       "      <td>XGBoost</td>\n",
       "      <td>0.95</td>\n",
       "    </tr>\n",
       "  </tbody>\n",
       "</table>\n",
       "</div>"
      ],
      "text/plain": [
       "           Model  Accuracy Score\n",
       "0  Random Forest            0.97\n",
       "1            SVM            0.97\n",
       "2        XGBoost            0.95"
      ]
     },
     "execution_count": 63,
     "metadata": {},
     "output_type": "execute_result"
    }
   ],
   "source": [
    "accuracy_df = pd.DataFrame(list(accuracy_scores.items()), columns=['Model', 'Accuracy Score'])\n",
    "accuracy_df"
   ]
  },
  {
   "cell_type": "markdown",
   "id": "623d40d9",
   "metadata": {},
   "source": [
    "## Saving the Model"
   ]
  },
  {
   "cell_type": "code",
   "execution_count": 64,
   "id": "f31026a1",
   "metadata": {},
   "outputs": [],
   "source": [
    "#saving the best performing model\n",
    "\n",
    "filename = 'phishing_detection_model.sav'\n",
    "pickle.dump(rf, open(filename, 'wb'))"
   ]
  },
  {
   "cell_type": "code",
   "execution_count": null,
   "id": "1505e21b",
   "metadata": {},
   "outputs": [],
   "source": []
  }
 ],
 "metadata": {
  "kernelspec": {
   "display_name": "Python 3 (ipykernel)",
   "language": "python",
   "name": "python3"
  },
  "language_info": {
   "codemirror_mode": {
    "name": "ipython",
    "version": 3
   },
   "file_extension": ".py",
   "mimetype": "text/x-python",
   "name": "python",
   "nbconvert_exporter": "python",
   "pygments_lexer": "ipython3",
   "version": "3.11.3"
  }
 },
 "nbformat": 4,
 "nbformat_minor": 5
}
